{
 "cells": [
  {
   "cell_type": "code",
   "execution_count": 1,
   "metadata": {},
   "outputs": [
    {
     "name": "stdout",
     "output_type": "stream",
     "text": [
      "Name: Fayzan Ali\n",
      "Age: 24\n",
      "City: Karachi\n",
      "\n",
      "Name: Fayzan Ali\n",
      "Age: 24\n",
      "City: Karachi\n",
      "Qualification: Intermediate\n",
      "\n",
      "Name: Fayzan Ali\n",
      "Age: 24\n",
      "City: Karachi\n",
      "Qualification: Bachelors in Computer Science\n",
      "\n",
      "Name: Fayzan Ali\n",
      "Age: 24\n",
      "City: Karachi\n"
     ]
    }
   ],
   "source": [
    "#QUESTION 1\n",
    "person={\n",
    "    \"First_name\":\"Fayzan\",\n",
    "    \"Last_name\":\"Ali\",\n",
    "    \"Age\":24,\n",
    "    \"City\":\"Karachi\"\n",
    "}\n",
    "person_1=\"Name: \" +person[\"First_name\"] + \" \" + person[\"Last_name\"] + \"\\nAge: \"\\\n",
    "+ str(person[\"Age\"]) + \"\\nCity: \" + person[\"City\"]\n",
    "print(person_1 + \"\\n\")\n",
    "\n",
    "# Adding\n",
    "person[\"Qualification\"]=\"Intermediate\"\n",
    "print(person_1 + \"\\nQualification: \" + person[\"Qualification\"] + \"\\n\")\n",
    "\n",
    "# Updating\n",
    "person[\"Qualification\"]=\"Bachelors in Computer Science\\n\"\n",
    "print(person_1 + \"\\nQualification: \" + person[\"Qualification\"])\n",
    "\n",
    "# Deleting\n",
    "del person[\"Qualification\"]\n",
    "\n",
    "print(person_1)"
   ]
  },
  {
   "cell_type": "code",
   "execution_count": 2,
   "metadata": {},
   "outputs": [
    {
     "name": "stdout",
     "output_type": "stream",
     "text": [
      "\n",
      "Islamabad is in Pakistan.\n",
      "  It has a population of about 1,095,064.\n",
      "  Fact: Islamabad was built during the 1960s to assume the role of the former Pakistani capital, Karachi.\n",
      "\n",
      "\n",
      "Colombo is in Srilanka.\n",
      "  It has a population of about 752,993.\n",
      "  Fact: Colombo is the commercial capital of Sri Lanka.\n",
      "\n",
      "\n",
      "Sydney is in Australia.\n",
      "  It has a population of about 5.23 Million.\n",
      "  Fact: The Sydney Harbour Bridge is nicknamed “The Coathanger” because of its arch-based design.\n",
      "\n"
     ]
    }
   ],
   "source": [
    "#QUESTION 2\n",
    "cities={ \"Islamabad\":{\n",
    "          \"Country\":\"Pakistan\",\n",
    "          \"Population\":\"1,095,064\",\n",
    "          \"Fact\":\"Islamabad was built during the 1960s to assume the role of the former Pakistani capital, Karachi.\\n\"},\n",
    "        \"Colombo\":{\n",
    "          \"Country\":\"Srilanka\",\n",
    "          \"Population\":\"752,993\",\n",
    "          \"Fact\":\"Colombo is the commercial capital of Sri Lanka.\\n\"},\n",
    "        \"Sydney\":{\n",
    "          \"Country\":\"Australia\",\n",
    "          \"Population\":\"5.23 Million\",\n",
    "          \"Fact\":\"The Sydney Harbour Bridge is nicknamed “The Coathanger” because of its arch-based design.\\n\"}\n",
    "}\n",
    "\n",
    "for city, city_info in cities.items():\n",
    "    country = city_info[\"Country\"].title()\n",
    "    population = city_info[\"Population\"]\n",
    "    fact = city_info[\"Fact\"]\n",
    "\n",
    "    print(\"\\n\" + city.title() + \" is in \" + country + \".\")\n",
    "    print(\"  It has a population of about \" + str(population) + \".\")\n",
    "    print(\"  Fact: \" + fact)"
   ]
  },
  {
   "cell_type": "code",
   "execution_count": 3,
   "metadata": {},
   "outputs": [
    {
     "name": "stdout",
     "output_type": "stream",
     "text": [
      "Enter the no of persons in movie theatre: 3\n",
      "Enter your age: 2\n",
      "Ticket is free\n",
      "Enter your age: 7\n",
      "The cost of movie ticket is $10\n",
      "Enter your age: 15\n",
      "The cost of movie ticket is $15\n"
     ]
    }
   ],
   "source": [
    "#QUESTION 3\n",
    "no_of_persons=int(input(\"Enter the no of persons in movie theatre: \"))\n",
    "\n",
    "for checkage in range(no_of_persons):\n",
    "    age=int(input(\"Enter your age: \"))\n",
    "    if age<3:\n",
    "        print(\"Ticket is free\")\n",
    "    elif age>=3 and age<=12:\n",
    "        print(\"The cost of movie ticket is $10\")\n",
    "    elif age>12:\n",
    "        print(\"The cost of movie ticket is $15\")"
   ]
  },
  {
   "cell_type": "code",
   "execution_count": 4,
   "metadata": {},
   "outputs": [
    {
     "name": "stdout",
     "output_type": "stream",
     "text": [
      "One of my favourite book is The Abstract Wild\n"
     ]
    }
   ],
   "source": [
    "#QUESTION 4\n",
    "def favorite_book(title):\n",
    "    print(\"One of my favourite book is\", title)\n",
    "    \n",
    "favorite_book(\"The Abstract Wild\")"
   ]
  },
  {
   "cell_type": "code",
   "execution_count": 5,
   "metadata": {},
   "outputs": [
    {
     "name": "stdout",
     "output_type": "stream",
     "text": [
      "GUESS THE NUMBER GAME\n",
      "Random num is:  17 \n",
      "Rules:\n",
      "1.You have total 3 chances to guess the hidden number \n",
      "2.The guessed number must be between 1 and 30\n",
      "\n",
      "BEST OF LUCK\n",
      "Guess the correct number: 15\n",
      "Your guess is wrong you have 2 chances left to guess the correct num\n",
      "Hint: The hidden number is greater than your entered guess number:\n",
      "Guess the correct number: 18\n",
      "Your guess is wrong you have 1 chances left to guess the correct num\n",
      "Hint: The hidden number is smaller than your entered guess number:\n",
      "Guess the correct number: 17\n",
      "\n",
      "CONGRATULATIONS your guess is correct YOU WON \n"
     ]
    }
   ],
   "source": [
    "#QUESTION 5\n",
    "import random\n",
    "\n",
    "random_num=random.randrange(1,30)\n",
    "print(\"GUESS THE NUMBER GAME\")\n",
    "print(\"Random num is: \",random_num , \"\\nRules:\\n1.You have total 3 chances to guess the hidden number \\n2.The guessed number must be between 1 and 30\\n\\nBEST OF LUCK\")\n",
    "\n",
    "count=3\n",
    "\n",
    "for countcheck in range(count):\n",
    "    guess_num=int(input(\"Guess the correct number: \"))\n",
    "    if random_num != guess_num:\n",
    "      count-=1\n",
    "      print(\"Your guess is wrong you have \" + str(count) + \" chances left to guess the correct num\")\n",
    "      if random_num<guess_num and count!=0:\n",
    "          print(\"Hint: The hidden number is smaller than your entered guess number:\")\n",
    "      elif random_num>guess_num and count!=0:\n",
    "          print(\"Hint: The hidden number is greater than your entered guess number:\")\n",
    "    else:\n",
    "        break\n",
    "            \n",
    "if count==0:\n",
    "    print(\"\\nSorry you have lost the game BETTER LUCK NEXT TIME\")\n",
    "elif random_num == guess_num :\n",
    "    print(\"\\nCONGRATULATIONS your guess is correct YOU WON \")"
   ]
  },
  {
   "cell_type": "code",
   "execution_count": null,
   "metadata": {},
   "outputs": [],
   "source": []
  }
 ],
 "metadata": {
  "kernelspec": {
   "display_name": "Python 3",
   "language": "python",
   "name": "python3"
  },
  "language_info": {
   "codemirror_mode": {
    "name": "ipython",
    "version": 3
   },
   "file_extension": ".py",
   "mimetype": "text/x-python",
   "name": "python",
   "nbconvert_exporter": "python",
   "pygments_lexer": "ipython3",
   "version": "3.7.1"
  }
 },
 "nbformat": 4,
 "nbformat_minor": 2
}
