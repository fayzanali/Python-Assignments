{
 "cells": [
  {
   "cell_type": "code",
   "execution_count": 1,
   "metadata": {},
   "outputs": [
    {
     "name": "stdout",
     "output_type": "stream",
     "text": [
      "Twinkle, twinkle, little star,\n",
      "        How I wonder what you are!\n",
      "                    Up above the world so high,\n",
      "                    Like a diamond in the sky.\n",
      "Twinkle, twinkle, little star,\n",
      "        How I wonder what you are!\n"
     ]
    }
   ],
   "source": [
    "#QUESTION 1\n",
    "Poem = \"\"\"Twinkle, twinkle, little star,\n",
    "        How I wonder what you are!\n",
    "                    Up above the world so high,\n",
    "                    Like a diamond in the sky.\n",
    "Twinkle, twinkle, little star,\n",
    "        How I wonder what you are!\"\"\"\n",
    "print(Poem)"
   ]
  },
  {
   "cell_type": "code",
   "execution_count": 2,
   "metadata": {},
   "outputs": [
    {
     "name": "stdout",
     "output_type": "stream",
     "text": [
      "Python Version 3.7.3 (default, Apr 24 2019, 15:29:51) [MSC v.1915 64 bit (AMD64)]\n"
     ]
    }
   ],
   "source": [
    "#QUESTION 2\n",
    "import sys\n",
    "print(\"Python Version\",sys.version)"
   ]
  },
  {
   "cell_type": "code",
   "execution_count": 3,
   "metadata": {},
   "outputs": [
    {
     "name": "stdout",
     "output_type": "stream",
     "text": [
      "Date and Time 2019-11-05 00:48:09.422267\n"
     ]
    }
   ],
   "source": [
    "#QUESTION 3\n",
    "from datetime import datetime\n",
    "print(\"Date and Time\",datetime.now())"
   ]
  },
  {
   "cell_type": "code",
   "execution_count": 4,
   "metadata": {},
   "outputs": [
    {
     "name": "stdout",
     "output_type": "stream",
     "text": [
      "Enter Radius: 5\n",
      "The area of cirle is:  78.538\n"
     ]
    }
   ],
   "source": [
    "#QUESTION 4\n",
    "r = int(input(\"Enter Radius: \"))\n",
    "area = 3.1415*(r**2)\n",
    "print(\"The area of cirle is: \",round(area,3))"
   ]
  },
  {
   "cell_type": "code",
   "execution_count": 5,
   "metadata": {},
   "outputs": [
    {
     "name": "stdout",
     "output_type": "stream",
     "text": [
      "Input your First Name : Fayzan\n",
      "Input your Last Name : Ali\n",
      "Ali Fayzan\n"
     ]
    }
   ],
   "source": [
    "#QUESTION 5\n",
    "fname = input(\"Input your First Name : \")\n",
    "lname = input(\"Input your Last Name : \")\n",
    "print (lname + \" \" + fname)"
   ]
  },
  {
   "cell_type": "code",
   "execution_count": 6,
   "metadata": {},
   "outputs": [
    {
     "name": "stdout",
     "output_type": "stream",
     "text": [
      "Enter a number: 5\n",
      "Enter another number: 4\n",
      "The addition of these two numbers is:  9\n"
     ]
    }
   ],
   "source": [
    "#QUESTION 6\n",
    "x = int(input(\"Enter a number: \"))\n",
    "y = int(input(\"Enter another number: \"))\n",
    "print(\"The addition of these two numbers is: \",x+y)"
   ]
  },
  {
   "cell_type": "code",
   "execution_count": null,
   "metadata": {},
   "outputs": [],
   "source": []
  }
 ],
 "metadata": {
  "kernelspec": {
   "display_name": "Python 3",
   "language": "python",
   "name": "python3"
  },
  "language_info": {
   "codemirror_mode": {
    "name": "ipython",
    "version": 3
   },
   "file_extension": ".py",
   "mimetype": "text/x-python",
   "name": "python",
   "nbconvert_exporter": "python",
   "pygments_lexer": "ipython3",
   "version": "3.7.3"
  }
 },
 "nbformat": 4,
 "nbformat_minor": 2
}
