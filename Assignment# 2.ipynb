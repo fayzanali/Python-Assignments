{
 "cells": [
  {
   "cell_type": "code",
   "execution_count": 1,
   "metadata": {},
   "outputs": [
    {
     "name": "stdout",
     "output_type": "stream",
     "text": [
      "Enter your marks out of 100\n",
      "English: 55\n",
      "Urdu: 68\n",
      "Islamiat: 76\n",
      "Mathematics: 83\n",
      "Physics: 64\n",
      "Total Marks: 346\n",
      "Out of: 500\n",
      "Percentage%: 69.19999999999999\n",
      "Grade: B\n"
     ]
    }
   ],
   "source": [
    "#QUESTION 1\n",
    "print(\"Enter your marks out of 100\")\n",
    "sub1 = int(input(\"English: \"))\n",
    "sub2 = int(input(\"Urdu: \"))\n",
    "sub3 = int(input(\"Islamiat: \"))\n",
    "sub4 = int(input(\"Mathematics: \"))\n",
    "sub5 = int(input(\"Physics: \"))\n",
    "\n",
    "total = sub1 + sub2 + sub3 + sub4 + sub5\n",
    "print(\"Total Marks:\", total)\n",
    "print(\"Out of: 500\")\n",
    "\n",
    "per = (total/500)*100\n",
    "print(\"Percentage%:\", per)\n",
    "\n",
    "if per >= 80 and per < 100:\n",
    "  print(\"Grade: A+\")\n",
    "elif per >= 70 and per < 80:\n",
    "  print(\"Grade: A\")\n",
    "elif per >= 60 and per < 70: \n",
    "  print(\"Grade: B\")\n",
    "elif per >= 50 and per < 60: \n",
    "  print(\"Grade: C\")\n",
    "elif per >= 40 and per < 50: \n",
    "  print(\"Grade: D\")\n",
    "elif per >= 33 and per < 40: \n",
    "  print(\"Grade: E\")\n",
    "elif per >= 0 and per < 33:\n",
    "  print(\"Grade: Fail\")\n",
    "else:\n",
    "    print(\"You have given inappropriate\")"
   ]
  },
  {
   "cell_type": "code",
   "execution_count": 2,
   "metadata": {},
   "outputs": [
    {
     "name": "stdout",
     "output_type": "stream",
     "text": [
      "Enter a number: 5\n",
      "This is an odd number.\n"
     ]
    }
   ],
   "source": [
    "#QUESTION 2\n",
    "num = int(input(\"Enter a number: \"))\n",
    "mod = num % 2\n",
    "if mod > 0:\n",
    "    print(\"This is an odd number.\")\n",
    "else:\n",
    "    print(\"This is an even number.\")"
   ]
  },
  {
   "cell_type": "code",
   "execution_count": 3,
   "metadata": {},
   "outputs": [
    {
     "name": "stdout",
     "output_type": "stream",
     "text": [
      "['bmw', 'audi', 'toyota', 'subaru']\n",
      "Lenght of the above list is: 4\n"
     ]
    }
   ],
   "source": [
    "#QUESTION 3\n",
    "cars = ['bmw', 'audi', 'toyota', 'subaru']\n",
    "print(cars)\n",
    "print(\"Lenght of the above list is:\", len(cars))"
   ]
  },
  {
   "cell_type": "code",
   "execution_count": 4,
   "metadata": {},
   "outputs": [
    {
     "name": "stdout",
     "output_type": "stream",
     "text": [
      "[1, 2, 3, 4, 5, 6, 7, 8, 9, 0]\n",
      "Sum of items in the list = 45\n"
     ]
    }
   ],
   "source": [
    "#QUESTION 4\n",
    "digits = [1, 2, 3, 4, 5, 6, 7, 8, 9, 0]\n",
    "print(digits)\n",
    "numeric = sum(digits)\n",
    "print(\"Sum of items in the list =\", numeric)"
   ]
  },
  {
   "cell_type": "code",
   "execution_count": 5,
   "metadata": {},
   "outputs": [
    {
     "name": "stdout",
     "output_type": "stream",
     "text": [
      "[1, 2, 3, 4, 5, 6, 7, 8, 9, 0]\n",
      "Largest Number in a List: 9\n"
     ]
    }
   ],
   "source": [
    "#QUESTION 5\n",
    "a = [1, 2, 3, 4, 5, 6, 7, 8, 9, 0]\n",
    "print(a)\n",
    "print(\"Largest Number in a List:\", max(a))"
   ]
  },
  {
   "cell_type": "code",
   "execution_count": 6,
   "metadata": {},
   "outputs": [
    {
     "name": "stdout",
     "output_type": "stream",
     "text": [
      "Following are the numbers which are less than 5\n",
      "1\n",
      "1\n",
      "2\n",
      "3\n"
     ]
    }
   ],
   "source": [
    "#QUESTION 6\n",
    "print(\"Following are the numbers which are less than 5\")\n",
    "a = [1, 1, 2, 3, 5, 8, 13, 21, 34, 55, 89]\n",
    "for b in a:\n",
    "  if b < 5:\n",
    "    print(b)"
   ]
  },
  {
   "cell_type": "code",
   "execution_count": null,
   "metadata": {},
   "outputs": [],
   "source": []
  }
 ],
 "metadata": {
  "kernelspec": {
   "display_name": "Python 3",
   "language": "python",
   "name": "python3"
  },
  "language_info": {
   "codemirror_mode": {
    "name": "ipython",
    "version": 3
   },
   "file_extension": ".py",
   "mimetype": "text/x-python",
   "name": "python",
   "nbconvert_exporter": "python",
   "pygments_lexer": "ipython3",
   "version": "3.7.3"
  }
 },
 "nbformat": 4,
 "nbformat_minor": 2
}
