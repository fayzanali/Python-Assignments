{
 "cells": [
  {
   "cell_type": "code",
   "execution_count": 1,
   "metadata": {},
   "outputs": [
    {
     "name": "stdout",
     "output_type": "stream",
     "text": [
      "Enter your first number: 4\n",
      "Enter your operator: **\n",
      "Enter your second number: 6\n",
      "4096\n"
     ]
    }
   ],
   "source": [
    "#QUESTION 1\n",
    "num1 = int(input('Enter your first number: '))\n",
    "opt = input('Enter your operator: ')\n",
    "num2 = int(input('Enter your second number: '))\n",
    "if opt == '+':\n",
    "    Addition = num1 + num2\n",
    "    print(Addition)\n",
    "elif opt == '-':\n",
    "    Subtraction = num1 - num2\n",
    "    print(Subtraction)\n",
    "elif opt == '-':\n",
    "    Multiplication = num1 * num2\n",
    "    print(Multiplication)\n",
    "elif opt == '/':\n",
    "    Division = num1 / num2\n",
    "    print(Division)\n",
    "elif opt == '**':\n",
    "    Power = num1 ** num2\n",
    "    print(Power)\n",
    "else:\n",
    "    print('Invalid Syntax')"
   ]
  },
  {
   "cell_type": "code",
   "execution_count": 2,
   "metadata": {},
   "outputs": [
    {
     "name": "stdout",
     "output_type": "stream",
     "text": [
      "2\n"
     ]
    }
   ],
   "source": [
    "#QUESTION 2\n",
    "magicians = ['alice', 'david', 'carolina', 2]\n",
    "for i in magicians:\n",
    "    if type(i) == int:\n",
    "        print(i)"
   ]
  },
  {
   "cell_type": "code",
   "execution_count": 3,
   "metadata": {},
   "outputs": [
    {
     "name": "stdout",
     "output_type": "stream",
     "text": [
      "Current Dictionary is:  {'color': 'green', 'points': 5}\n",
      "Updated Dictionary is:  {'color': 'green', 'points': 5, 'x_position': 0}\n"
     ]
    }
   ],
   "source": [
    "#QUESTION 3\n",
    "alien_0 = {'color': 'green', 'points': 5}\n",
    "print(\"Current Dictionary is: \", alien_0) \n",
    "   \n",
    "alien_0['x_position'] = 0\n",
    "print(\"Updated Dictionary is: \", alien_0)"
   ]
  },
  {
   "cell_type": "code",
   "execution_count": 4,
   "metadata": {},
   "outputs": [
    {
     "name": "stdout",
     "output_type": "stream",
     "text": [
      "Total sum of items in the dictionary: \n",
      "15\n"
     ]
    }
   ],
   "source": [
    "#QUESTION 4\n",
    "rankings = {\"Finland\" : 5, \"Norway\" : 3, \"Sweden\": 7}\n",
    "print(\"Total sum of items in the dictionary: \")\n",
    "print(sum(rankings.values()))"
   ]
  },
  {
   "cell_type": "code",
   "execution_count": 5,
   "metadata": {},
   "outputs": [
    {
     "name": "stdout",
     "output_type": "stream",
     "text": [
      "martina is duplicate\n",
      "charles is duplicate\n"
     ]
    }
   ],
   "source": [
    "#QUESTION 5\n",
    "players = ['charles', 'martina', 'michael', 'florence', 'eli', 'martina', 'charles']\n",
    "players2 = set();\n",
    "for make in players:\n",
    "    if make in players2:\n",
    "        print(make+\" is duplicate\")\n",
    "    else:\n",
    "        players2.add(make)"
   ]
  },
  {
   "cell_type": "code",
   "execution_count": 6,
   "metadata": {},
   "outputs": [
    {
     "name": "stdout",
     "output_type": "stream",
     "text": [
      "Enter a key of dictionary :jen\n",
      "Key is present in the dictionary\n"
     ]
    }
   ],
   "source": [
    "#QUESTION 6\n",
    "favorite_languages = {'jen': 'python', 'sarah': 'c', 'edward': 'ruby', 'phil': 'python'}\n",
    "x = input(\"Enter a key of dictionary :\")\n",
    "if x in favorite_languages:\n",
    "    print('Key is present in the dictionary')\n",
    "else:\n",
    "    print('Key is not present in the dictionary')"
   ]
  },
  {
   "cell_type": "code",
   "execution_count": null,
   "metadata": {},
   "outputs": [],
   "source": []
  }
 ],
 "metadata": {
  "kernelspec": {
   "display_name": "Python 3",
   "language": "python",
   "name": "python3"
  },
  "language_info": {
   "codemirror_mode": {
    "name": "ipython",
    "version": 3
   },
   "file_extension": ".py",
   "mimetype": "text/x-python",
   "name": "python",
   "nbconvert_exporter": "python",
   "pygments_lexer": "ipython3",
   "version": "3.7.3"
  }
 },
 "nbformat": 4,
 "nbformat_minor": 2
}
