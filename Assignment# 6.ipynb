{
 "cells": [
  {
   "cell_type": "markdown",
   "metadata": {},
   "source": [
    "# Question 1"
   ]
  },
  {
   "cell_type": "markdown",
   "metadata": {},
   "source": [
    "Object-oriented programming is one of the most effective approaches to writing software. In object-oriented programming you write classes that represent real-world things and situations, and you create objects based on these classes. When you write a class, you define the general behavior that a whole category of objects can have."
   ]
  },
  {
   "cell_type": "markdown",
   "metadata": {},
   "source": [
    "# Question 2"
   ]
  },
  {
   "cell_type": "markdown",
   "metadata": {},
   "source": [
    "1. OOP provides a clear modular structure for programs.\n",
    "2. Reuse of code through inheritance\n",
    "3. Flexibility through polymorphism\n",
    "4. Effective problem solving\n",
    "5. It is good for defining abstract data types.\n",
    "6. Implementation details are hidden from other modules.\n",
    "7. It is easy to maintain and modify existing code.\n",
    "8. It implements real life scenario."
   ]
  },
  {
   "cell_type": "markdown",
   "metadata": {},
   "source": [
    "# Question 3"
   ]
  },
  {
   "cell_type": "markdown",
   "metadata": {},
   "source": [
    "METHOD:\n",
    "1. Method is called by its name, but it is associated to an object (dependent).\n",
    "2. A method is implicitly passed the object on which it is invoked.\n",
    "3. It may or may not return any data.\n",
    "4. A method can operate on the data (instance variables) that is contained by the corresponding class\n",
    "\n",
    "FUNCTION:\n",
    "1. Function is block of code that is also called by its name. (independent)\n",
    "2. The function can have different parameters or may not have any at all. If any data (parameters) are passed, they are passed explicitly.\n",
    "3. It may or may not return any data.\n",
    "4. Function does not deal with Class and its instance concept."
   ]
  },
  {
   "cell_type": "markdown",
   "metadata": {},
   "source": [
    "# Question 4"
   ]
  },
  {
   "cell_type": "markdown",
   "metadata": {},
   "source": [
    "CLASS:\n",
    "        In object-oriented programming, a class is a blueprint for creating objects\n",
    "        (a particular data structure), providing initial values for state\n",
    "        (member variables or attributes),and implementations of behavior \n",
    "        (member functions or methods).\n",
    "\n",
    "OBJECT:\n",
    "        An object is nothing but a self-contained component which consists of methods\n",
    "        and properties to make a particular type of data useful. Object determines the \n",
    "        behavior of the class. When you send a message to an object, you are asking the \n",
    "        object to invoke or execute one of its methods.\n",
    "        From a programming point of view, an object can be a data structure, a variable \n",
    "        or a function. It has a memory location allocated. The object is designed as class \n",
    "        hierarchies.\n",
    "        \n",
    "ATTRIBUTES:\n",
    "         Attributes are the individual things that differentiate one object from another and determine the appearance, state, or other qualities of that object.\n",
    "         Attributes are defined in classes by variables. Those variables' types and names are defined in the class, and each object can have its own values for those variables. Because each instance of a class can have different values for its variables, these variables are often called instance variables.\n",
    "\n",
    "BEHAVIOR:\n",
    "            In Simple Behavior is how it work. like Car's behavior Moving Functions.\n",
    "            For instance, an object could represent a person with a name property, \n",
    "            age, address, etc., with behaviors like walking, talking, breathing, \n",
    "            and running. Or an email with propertieslike recipient list, subject, \n",
    "            body, etc., and behaviors like adding attachments and sending."
   ]
  },
  {
   "cell_type": "code",
   "execution_count": 1,
   "metadata": {},
   "outputs": [
    {
     "name": "stdout",
     "output_type": "stream",
     "text": [
      "Car 1\n",
      "Name          : Civic\n",
      "Model         : 2019\n",
      "Color         : Black\n",
      "Company       : Honda\n",
      "Transmission  : Automatic \n",
      "\n",
      "Car 2\n",
      "Name          : Coure\n",
      "Model         : 2009\n",
      "Color         : Brown\n",
      "Company       : Diahatsu\n",
      "Transmission  : Manual \n",
      "\n",
      "Car 3\n",
      "Name          : Corolla\n",
      "Model         : 2016\n",
      "Color         : Black\n",
      "Company       : Toyota\n",
      "Transmission  : Automatic \n",
      "\n",
      "Car 4\n",
      "Name          : Mehran\n",
      "Model         : 2017\n",
      "Color         : Grey\n",
      "Company       : Suzuki\n",
      "Transmission  : Manual \n",
      "\n",
      "Car 5\n",
      "Name          : City\n",
      "Model         : 2018\n",
      "Color         : White\n",
      "Company       : Honda\n",
      "Transmission  : Automatic \n",
      "\n",
      "Civic Engine started\n",
      "Coure Engine switched off\n",
      "Civic is now being driven\n"
     ]
    }
   ],
   "source": [
    "#QUESTION 5\n",
    "\n",
    "class Car():\n",
    "    def __init__(self, name, model, color, company, transmission):\n",
    "        self.name = name\n",
    "        self.model = model\n",
    "        self.color = color\n",
    "        self.company = company\n",
    "        self.transmission = transmission\n",
    "\n",
    "    def start():\n",
    "        print (car1.name,\"Engine started\")\n",
    "\n",
    "    def stop():\n",
    "        print (car2.name,\"Engine switched off\")\n",
    "    \n",
    "    def drive():\n",
    "        print (car1.name,\"is now being driven\")\n",
    "        \n",
    "car1 = Car(\"Civic\", 2019, \"Black\", \"Honda\", \"Automatic\")\n",
    "print(\"Car 1\")\n",
    "print(\"Name          :\", car1.name)\n",
    "print(\"Model         :\", car1.model)\n",
    "print(\"Color         :\", car1.color)\n",
    "print(\"Company       :\", car1.company)\n",
    "print(\"Transmission  :\", car1.transmission, \"\\n\")\n",
    "\n",
    "car2 = Car(\"Coure\", 2009, \"Brown\", \"Diahatsu\", \"Manual\")\n",
    "print(\"Car 2\")\n",
    "print(\"Name          :\", car2.name)\n",
    "print(\"Model         :\", car2.model)\n",
    "print(\"Color         :\", car2.color)\n",
    "print(\"Company       :\", car2.company)\n",
    "print(\"Transmission  :\", car2.transmission, \"\\n\" )\n",
    "\n",
    "car3 = Car(\"Corolla\", 2016, \"Black\", \"Toyota\", \"Automatic\")\n",
    "print(\"Car 3\")\n",
    "print(\"Name          :\", car3.name)\n",
    "print(\"Model         :\", car3.model)\n",
    "print(\"Color         :\", car3.color)\n",
    "print(\"Company       :\", car3.company)\n",
    "print(\"Transmission  :\", car3.transmission, \"\\n\")\n",
    "\n",
    "car4 = Car(\"Mehran\", 2017, \"Grey\", \"Suzuki\", \"Manual\")\n",
    "print(\"Car 4\")\n",
    "print(\"Name          :\", car4.name)\n",
    "print(\"Model         :\", car4.model)\n",
    "print(\"Color         :\", car4.color)\n",
    "print(\"Company       :\", car4.company)\n",
    "print(\"Transmission  :\", car4.transmission, \"\\n\")\n",
    "\n",
    "car5 = Car(\"City\", 2018, \"White\", \"Honda\", \"Automatic\")\n",
    "print(\"Car 5\")\n",
    "print(\"Name          :\", car5.name)\n",
    "print(\"Model         :\", car5.model)\n",
    "print(\"Color         :\", car5.color)\n",
    "print(\"Company       :\", car5.company)\n",
    "print(\"Transmission  :\", car5.transmission, \"\\n\")\n",
    "\n",
    "Car.start()\n",
    "Car.stop()\n",
    "Car.drive()"
   ]
  },
  {
   "cell_type": "code",
   "execution_count": null,
   "metadata": {},
   "outputs": [],
   "source": []
  }
 ],
 "metadata": {
  "kernelspec": {
   "display_name": "Python 3",
   "language": "python",
   "name": "python3"
  },
  "language_info": {
   "codemirror_mode": {
    "name": "ipython",
    "version": 3
   },
   "file_extension": ".py",
   "mimetype": "text/x-python",
   "name": "python",
   "nbconvert_exporter": "python",
   "pygments_lexer": "ipython3",
   "version": "3.7.1"
  }
 },
 "nbformat": 4,
 "nbformat_minor": 2
}
